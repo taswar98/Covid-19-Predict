{
 "cells": [
  {
   "cell_type": "code",
   "execution_count": 264,
   "metadata": {},
   "outputs": [],
   "source": [
    "import csv"
   ]
  },
  {
   "cell_type": "markdown",
   "metadata": {},
   "source": [
    "## EECS4080 Project ##\n",
    "   "
   ]
  },
  {
   "cell_type": "markdown",
   "metadata": {},
   "source": [
    "##### Collecting data from the training.csv and putting all elements inside a list "
   ]
  },
  {
   "cell_type": "code",
   "execution_count": 265,
   "metadata": {},
   "outputs": [],
   "source": [
    "import pandas as pd\n",
    "\n",
    "data = pd.read_csv(\"training.csv\")\n",
    "temp_list = []\n",
    "dict_of_tweets = {}\n",
    "\n",
    "for column_name in data.columns:\n",
    "    temp_list = data[column_name].tolist()\n",
    "    dict_of_tweets[column_name] = temp_list\n"
   ]
  },
  {
   "cell_type": "code",
   "execution_count": 266,
   "metadata": {},
   "outputs": [],
   "source": [
    "##print(dict_of_tweets['Tweet'])"
   ]
  },
  {
   "cell_type": "markdown",
   "metadata": {},
   "source": [
    "##### Converting all Tweet strings to lowercase"
   ]
  },
  {
   "cell_type": "code",
   "execution_count": 267,
   "metadata": {},
   "outputs": [
    {
     "name": "stderr",
     "output_type": "stream",
     "text": [
      "/var/folders/ns/dhnrs0mj093d4ksd7qgs_j500000gn/T/ipykernel_20967/4189256808.py:4: SettingWithCopyWarning: \n",
      "A value is trying to be set on a copy of a slice from a DataFrame\n",
      "\n",
      "See the caveats in the documentation: https://pandas.pydata.org/pandas-docs/stable/user_guide/indexing.html#returning-a-view-versus-a-copy\n",
      "  data['Tweet'][x] = data['Tweet'][x].lower()\n"
     ]
    }
   ],
   "source": [
    "num_tweets = len(data['Tweet'])\n",
    "\n",
    "for x in range(0, num_tweets):\n",
    "    data['Tweet'][x] = data['Tweet'][x].lower()\n"
   ]
  },
  {
   "cell_type": "markdown",
   "metadata": {},
   "source": [
    "##### Creating a list of symptom keywords and a dictionary of corresponding symptom counts "
   ]
  },
  {
   "cell_type": "code",
   "execution_count": 268,
   "metadata": {},
   "outputs": [],
   "source": [
    "list_of_keywords = ['cough', 'covid', 'positive', 'sore throat', 'runny nose', 'fever', 'shortness of breathe']\n",
    "keylist_size = len(list_of_keywords)\n",
    "##Create a dictionary to store symptom string count pairs ex:(\"cough\": 3, \"fever\": 10) \n",
    "symptom_count = {\"cough\" : 0, \"covid\" : 0, \"positive\" : 0, \"sore throat\" : 0, \"runny nose\" : 0, \"fever\": 0, \"shortness of breathe\" :0}\n",
    "\n",
    "count_list= []\n",
    "\n",
    "counter = 0\n",
    "symptom_count\n",
    "co=0\n",
    "\n"
   ]
  },
  {
   "cell_type": "markdown",
   "metadata": {},
   "source": [
    "##### If the tweet contains the symptom keyword we will increment its symptom count value in the dictionary"
   ]
  },
  {
   "cell_type": "code",
   "execution_count": 269,
   "metadata": {},
   "outputs": [],
   "source": [
    "for tweets in data['Tweet']:\n",
    "    for symptoms in list_of_keywords:\n",
    "        if symptoms in tweets:\n",
    "            symptom_count[symptoms] += 1\n",
    "            counter+=1    \n"
   ]
  },
  {
   "cell_type": "code",
   "execution_count": 270,
   "metadata": {},
   "outputs": [],
   "source": [
    "count_list.append(symptom_count)"
   ]
  },
  {
   "cell_type": "code",
   "execution_count": 271,
   "metadata": {},
   "outputs": [],
   "source": [
    "with open('counts.csv', 'w') as csvfile:\n",
    "    ##writer = csv.DictWriter(csvfile, fieldnames = list_of_keywords)\n",
    "    writer = csv.DictWriter(csvfile, fieldnames = list_of_keywords)\n",
    "    writer.writeheader()\n",
    "    writer.writerows(count_list)"
   ]
  },
  {
   "cell_type": "code",
   "execution_count": 272,
   "metadata": {},
   "outputs": [
    {
     "data": {
      "text/plain": [
       "{'cough': 28,\n",
       " 'covid': 1262,\n",
       " 'positive': 127,\n",
       " 'sore throat': 0,\n",
       " 'runny nose': 1,\n",
       " 'fever': 7,\n",
       " 'shortness of breathe': 1}"
      ]
     },
     "execution_count": 272,
     "metadata": {},
     "output_type": "execute_result"
    }
   ],
   "source": [
    "symptom_count"
   ]
  },
  {
   "cell_type": "code",
   "execution_count": null,
   "metadata": {},
   "outputs": [],
   "source": []
  }
 ],
 "metadata": {
  "interpreter": {
   "hash": "2e6c12acef52fb63f5c69123f384ddf637b6e58d8f615616b026921a4cb16581"
  },
  "kernelspec": {
   "display_name": "Python 3.9.7 ('base')",
   "language": "python",
   "name": "python3"
  },
  "language_info": {
   "codemirror_mode": {
    "name": "ipython",
    "version": 3
   },
   "file_extension": ".py",
   "mimetype": "text/x-python",
   "name": "python",
   "nbconvert_exporter": "python",
   "pygments_lexer": "ipython3",
   "version": "3.9.7"
  },
  "orig_nbformat": 4
 },
 "nbformat": 4,
 "nbformat_minor": 2
}
